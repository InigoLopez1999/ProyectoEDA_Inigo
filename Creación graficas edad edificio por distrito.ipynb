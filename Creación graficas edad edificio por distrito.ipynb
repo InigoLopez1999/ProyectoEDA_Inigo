{
 "cells": [
  {
   "cell_type": "code",
   "execution_count": null,
   "metadata": {},
   "outputs": [],
   "source": [
    "import matplotlib.pyplot as plt\n",
    "import numpy as np\n",
    "import folium\n",
    "import os\n",
    "import pandas as pd"
   ]
  },
  {
   "cell_type": "code",
   "execution_count": 3,
   "metadata": {},
   "outputs": [],
   "source": [
    "output_dir = \"graficos_edad_edificio\"\n",
    "os.makedirs(output_dir, exist_ok=True)"
   ]
  },
  {
   "cell_type": "code",
   "execution_count": 4,
   "metadata": {},
   "outputs": [],
   "source": [
    "nepal = pd.read_csv(\"eq2015.csv\")\n",
    "fuente_1 = \"https://www.kaggle.com/datasets/sanskarnegi/nepal-earthquake-2015\""
   ]
  },
  {
   "cell_type": "code",
   "execution_count": 5,
   "metadata": {},
   "outputs": [],
   "source": [
    "# Filtrar outliers (opcional)\n",
    "df_filtered = nepal[nepal[\"age_building\"] <= 100]"
   ]
  },
  {
   "cell_type": "code",
   "execution_count": 6,
   "metadata": {},
   "outputs": [
    {
     "data": {
      "text/plain": [
       "array(['OKHALDHUNGA', 'SINDHULI', 'RAMECHHAP', 'DOLAKHA', 'SINDHUPALCHOK',\n",
       "       'KAVRE', 'NUWAKOT', 'RASUWA', 'DHADING', 'MAKWANPUR', 'GORKHA'],\n",
       "      dtype=object)"
      ]
     },
     "execution_count": 6,
     "metadata": {},
     "output_type": "execute_result"
    }
   ],
   "source": [
    "distritos = nepal[\"district_name\"].unique()\n",
    "distritos"
   ]
  },
  {
   "cell_type": "code",
   "execution_count": 7,
   "metadata": {},
   "outputs": [],
   "source": [
    "graficos_por_distrito = {}"
   ]
  },
  {
   "cell_type": "code",
   "execution_count": 8,
   "metadata": {},
   "outputs": [],
   "source": [
    "for distrito in distritos:\n",
    "    df_distrito = df_filtered[df_filtered[\"district_name\"] == distrito]\n",
    "    df_grouped = df_distrito.groupby([\"age_building\", \"damage_grade\"]).size().unstack()\n",
    "\n",
    "    # Crear la figura\n",
    "    fig, ax = plt.subplots(figsize=(6, 4))\n",
    "    df_grouped.plot(kind='bar', stacked=True, colormap='viridis', ax=ax)\n",
    "\n",
    "    # Configurar los ticks del eje X para que vayan de 10 en 10\n",
    "    ticks = np.arange(0, df_distrito[\"age_building\"].max() + 10, 10)\n",
    "    ax.set_xticks(ticks)\n",
    "    ax.set_xticklabels(ticks, rotation=45)\n",
    "\n",
    "    # Etiquetas\n",
    "    plt.xlabel('Edad del edificio (años)')\n",
    "    plt.ylabel('Número de edificios')\n",
    "    plt.title(f'Distrito: {distrito}')\n",
    "\n",
    "    # Guardar la imagen en memoria\n",
    "    img_path = os.path.join(output_dir, f\"{distrito}.png\")\n",
    "    plt.savefig(img_path, bbox_inches=\"tight\", dpi=150)\n",
    "    plt.close(fig)\n",
    "\n",
    "    # Guardar ruta de la imagen\n",
    "    graficos_por_distrito[distrito] = img_path"
   ]
  }
 ],
 "metadata": {
  "kernelspec": {
   "display_name": "Python 3",
   "language": "python",
   "name": "python3"
  },
  "language_info": {
   "codemirror_mode": {
    "name": "ipython",
    "version": 3
   },
   "file_extension": ".py",
   "mimetype": "text/x-python",
   "name": "python",
   "nbconvert_exporter": "python",
   "pygments_lexer": "ipython3",
   "version": "3.11.9"
  }
 },
 "nbformat": 4,
 "nbformat_minor": 2
}
