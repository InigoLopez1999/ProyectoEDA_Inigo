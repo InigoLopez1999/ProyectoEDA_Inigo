{
 "cells": [
  {
   "cell_type": "markdown",
   "metadata": {},
   "source": [
    "![imagen](./img/ejercicios.png)"
   ]
  },
  {
   "cell_type": "markdown",
   "metadata": {},
   "source": [
    "# INFORMACIÓN DEL PROYECTO"
   ]
  },
  {
   "cell_type": "markdown",
   "metadata": {},
   "source": [
    "### TÍTULO"
   ]
  },
  {
   "cell_type": "code",
   "execution_count": null,
   "metadata": {},
   "outputs": [],
   "source": [
    "#Escribe el título del proyecto en Markdown\n",
    "titulo = \"Factores geoestructurales de los edificios que podrían evitar su derrumbamiento durante un seísmo de gran magnitud\""
   ]
  },
  {
   "cell_type": "markdown",
   "metadata": {},
   "source": [
    "### TEMA"
   ]
  },
  {
   "cell_type": "code",
   "execution_count": 1,
   "metadata": {},
   "outputs": [],
   "source": [
    "# Describe brevemente el tema del proyecto en Markdown\n",
    "tema = \"Analizando diversas características de los edificios, como su altura en pisos, si se construyeron sobre una pendiente, \" \\\n",
    "\"el tipo de basamento sobre el que están sustentados o su antigüedad, se podrían identificar qué características podrían estar correlacionadas entre sí, \" \\\n",
    "\"además de aquellas que influirían en su derrumbamiento durante un terremoto de gran envergadura, como el terremoto de Gorkha en Nepal en el año 2015.\""
   ]
  },
  {
   "cell_type": "markdown",
   "metadata": {},
   "source": [
    "### HIPÓTESIS"
   ]
  },
  {
   "cell_type": "markdown",
   "metadata": {},
   "source": [
    "Define aquí lo que será la hipótesis de tu proyecto.\n",
    "Deberás tener más de una, pero tu proyecto lo harás teniendo una principal hipótesis."
   ]
  },
  {
   "cell_type": "code",
   "execution_count": 2,
   "metadata": {},
   "outputs": [],
   "source": [
    "# Escribe tu hipótesis principal en Markdown\n",
    "hipotesis_1 = \"Los edificios de mayor altura son más propensos a derrumbarse durante grandes terremotos\""
   ]
  },
  {
   "cell_type": "code",
   "execution_count": 3,
   "metadata": {},
   "outputs": [],
   "source": [
    "# Escribe más hipótesis si las hubiera en Markdown\n",
    "hipotesis_2 = \"Los edificios construidos en pendiente poseen menor estabilidad respecto a los construidos en plano y, por tanto, son más susceptibles al colapso\"\n",
    "hipotesis_3 = \"El basamento sobre el que se sustenta un edificio es vital ante las sacudidas de un sismo, de modo que los situados sobre roca se mantendrán en pie\"\n",
    "hipotesis_4 = \"Los edificios antiguos son más susceptibles al derrumbamiento que los edificios modernos con técnicas de construcción actuales\""
   ]
  },
  {
   "cell_type": "markdown",
   "metadata": {},
   "source": [
    "## OBTENCIÓN DE LOS DATOS"
   ]
  },
  {
   "cell_type": "markdown",
   "metadata": {},
   "source": [
    "### DATASETS Y FUENTES ALTERNATIVAS DE DATOS"
   ]
  },
  {
   "cell_type": "markdown",
   "metadata": {},
   "source": [
    "Incluye aquí una vista del dataset o datasets de los que partirás para poder evaluar tu hipótesis. <br>\n",
    "También incluye el origen de estos datos y su fuente."
   ]
  },
  {
   "cell_type": "code",
   "execution_count": 8,
   "metadata": {},
   "outputs": [],
   "source": [
    "import pandas as pd\n",
    "nepal = pd.read_csv(\"eq2015.csv\")\n",
    "fuente_1 = \"https://www.kaggle.com/datasets/sanskarnegi/nepal-earthquake-2015\""
   ]
  },
  {
   "cell_type": "markdown",
   "metadata": {},
   "source": [
    "Muestra mediante un head() los principales datasets con los que vas a trabajar"
   ]
  },
  {
   "cell_type": "code",
   "execution_count": 9,
   "metadata": {},
   "outputs": [
    {
     "data": {
      "application/vnd.microsoft.datawrangler.viewer.v0+json": {
       "columns": [
        {
         "name": "index",
         "rawType": "int64",
         "type": "integer"
        },
        {
         "name": "building_id",
         "rawType": "int64",
         "type": "integer"
        },
        {
         "name": "district_id",
         "rawType": "int64",
         "type": "integer"
        },
        {
         "name": "vdcmun_id",
         "rawType": "int64",
         "type": "integer"
        },
        {
         "name": "ward_id",
         "rawType": "int64",
         "type": "integer"
        },
        {
         "name": "count_floors_pre_eq",
         "rawType": "int64",
         "type": "integer"
        },
        {
         "name": "count_floors_post_eq",
         "rawType": "int64",
         "type": "integer"
        },
        {
         "name": "age_building",
         "rawType": "int64",
         "type": "integer"
        },
        {
         "name": "plinth_area_sq_ft",
         "rawType": "int64",
         "type": "integer"
        },
        {
         "name": "height_ft_pre_eq",
         "rawType": "int64",
         "type": "integer"
        },
        {
         "name": "height_ft_post_eq",
         "rawType": "int64",
         "type": "integer"
        },
        {
         "name": "land_surface_condition",
         "rawType": "object",
         "type": "string"
        },
        {
         "name": "foundation_type",
         "rawType": "object",
         "type": "string"
        },
        {
         "name": "roof_type",
         "rawType": "object",
         "type": "string"
        },
        {
         "name": "ground_floor_type",
         "rawType": "object",
         "type": "string"
        },
        {
         "name": "other_floor_type",
         "rawType": "object",
         "type": "string"
        },
        {
         "name": "position",
         "rawType": "object",
         "type": "string"
        },
        {
         "name": "plan_configuration",
         "rawType": "object",
         "type": "string"
        },
        {
         "name": "condition_post_eq",
         "rawType": "object",
         "type": "string"
        },
        {
         "name": "damage_grade",
         "rawType": "object",
         "type": "string"
        },
        {
         "name": "technical_solution_proposed",
         "rawType": "object",
         "type": "string"
        },
        {
         "name": "superstructure",
         "rawType": "object",
         "type": "string"
        }
       ],
       "conversionMethod": "pd.DataFrame",
       "ref": "9042e307-00a3-4f10-b410-8a54aaa5609a",
       "rows": [
        [
         "0",
         "120101000011",
         "12",
         "1207",
         "120703",
         "1",
         "1",
         "9",
         "288",
         "9",
         "9",
         "Flat",
         "Other",
         "Bamboo/Timber-Light roof",
         "Mud",
         "Not applicable",
         "Not attached",
         "Rectangular",
         "Damaged-Used in risk",
         "Grade 3",
         "Major repair",
         "has_superstructure_mud_mortar_stone"
        ],
        [
         "1",
         "120101000021",
         "12",
         "1207",
         "120703",
         "1",
         "1",
         "15",
         "364",
         "9",
         "9",
         "Flat",
         "Other",
         "Bamboo/Timber-Light roof",
         "Mud",
         "Not applicable",
         "Not attached",
         "Rectangular",
         "Damaged-Repaired and used",
         "Grade 5",
         "Reconstruction",
         "has_superstructure_mud_mortar_stone"
        ],
        [
         "2",
         "120101000031",
         "12",
         "1207",
         "120703",
         "1",
         "1",
         "20",
         "384",
         "9",
         "9",
         "Flat",
         "Other",
         "Bamboo/Timber-Light roof",
         "Mud",
         "Not applicable",
         "Not attached",
         "Rectangular",
         "Damaged-Repaired and used",
         "Grade 2",
         "Minor repair",
         "has_superstructure_mud_mortar_stone"
        ],
        [
         "3",
         "120101000041",
         "12",
         "1207",
         "120703",
         "1",
         "1",
         "20",
         "312",
         "9",
         "9",
         "Flat",
         "Other",
         "Bamboo/Timber-Light roof",
         "Mud",
         "Not applicable",
         "Not attached",
         "Rectangular",
         "Damaged-Repaired and used",
         "Grade 2",
         "Minor repair",
         "has_superstructure_mud_mortar_stone"
        ],
        [
         "4",
         "120101000051",
         "12",
         "1207",
         "120703",
         "1",
         "1",
         "30",
         "308",
         "9",
         "9",
         "Flat",
         "Other",
         "Bamboo/Timber-Light roof",
         "Mud",
         "Not applicable",
         "Not attached",
         "Rectangular",
         "Damaged-Repaired and used",
         "Grade 1",
         "Minor repair",
         "has_superstructure_mud_mortar_stone"
        ]
       ],
       "shape": {
        "columns": 21,
        "rows": 5
       }
      },
      "text/html": [
       "<div>\n",
       "<style scoped>\n",
       "    .dataframe tbody tr th:only-of-type {\n",
       "        vertical-align: middle;\n",
       "    }\n",
       "\n",
       "    .dataframe tbody tr th {\n",
       "        vertical-align: top;\n",
       "    }\n",
       "\n",
       "    .dataframe thead th {\n",
       "        text-align: right;\n",
       "    }\n",
       "</style>\n",
       "<table border=\"1\" class=\"dataframe\">\n",
       "  <thead>\n",
       "    <tr style=\"text-align: right;\">\n",
       "      <th></th>\n",
       "      <th>building_id</th>\n",
       "      <th>district_id</th>\n",
       "      <th>vdcmun_id</th>\n",
       "      <th>ward_id</th>\n",
       "      <th>count_floors_pre_eq</th>\n",
       "      <th>count_floors_post_eq</th>\n",
       "      <th>age_building</th>\n",
       "      <th>plinth_area_sq_ft</th>\n",
       "      <th>height_ft_pre_eq</th>\n",
       "      <th>height_ft_post_eq</th>\n",
       "      <th>...</th>\n",
       "      <th>foundation_type</th>\n",
       "      <th>roof_type</th>\n",
       "      <th>ground_floor_type</th>\n",
       "      <th>other_floor_type</th>\n",
       "      <th>position</th>\n",
       "      <th>plan_configuration</th>\n",
       "      <th>condition_post_eq</th>\n",
       "      <th>damage_grade</th>\n",
       "      <th>technical_solution_proposed</th>\n",
       "      <th>superstructure</th>\n",
       "    </tr>\n",
       "  </thead>\n",
       "  <tbody>\n",
       "    <tr>\n",
       "      <th>0</th>\n",
       "      <td>120101000011</td>\n",
       "      <td>12</td>\n",
       "      <td>1207</td>\n",
       "      <td>120703</td>\n",
       "      <td>1</td>\n",
       "      <td>1</td>\n",
       "      <td>9</td>\n",
       "      <td>288</td>\n",
       "      <td>9</td>\n",
       "      <td>9</td>\n",
       "      <td>...</td>\n",
       "      <td>Other</td>\n",
       "      <td>Bamboo/Timber-Light roof</td>\n",
       "      <td>Mud</td>\n",
       "      <td>Not applicable</td>\n",
       "      <td>Not attached</td>\n",
       "      <td>Rectangular</td>\n",
       "      <td>Damaged-Used in risk</td>\n",
       "      <td>Grade 3</td>\n",
       "      <td>Major repair</td>\n",
       "      <td>has_superstructure_mud_mortar_stone</td>\n",
       "    </tr>\n",
       "    <tr>\n",
       "      <th>1</th>\n",
       "      <td>120101000021</td>\n",
       "      <td>12</td>\n",
       "      <td>1207</td>\n",
       "      <td>120703</td>\n",
       "      <td>1</td>\n",
       "      <td>1</td>\n",
       "      <td>15</td>\n",
       "      <td>364</td>\n",
       "      <td>9</td>\n",
       "      <td>9</td>\n",
       "      <td>...</td>\n",
       "      <td>Other</td>\n",
       "      <td>Bamboo/Timber-Light roof</td>\n",
       "      <td>Mud</td>\n",
       "      <td>Not applicable</td>\n",
       "      <td>Not attached</td>\n",
       "      <td>Rectangular</td>\n",
       "      <td>Damaged-Repaired and used</td>\n",
       "      <td>Grade 5</td>\n",
       "      <td>Reconstruction</td>\n",
       "      <td>has_superstructure_mud_mortar_stone</td>\n",
       "    </tr>\n",
       "    <tr>\n",
       "      <th>2</th>\n",
       "      <td>120101000031</td>\n",
       "      <td>12</td>\n",
       "      <td>1207</td>\n",
       "      <td>120703</td>\n",
       "      <td>1</td>\n",
       "      <td>1</td>\n",
       "      <td>20</td>\n",
       "      <td>384</td>\n",
       "      <td>9</td>\n",
       "      <td>9</td>\n",
       "      <td>...</td>\n",
       "      <td>Other</td>\n",
       "      <td>Bamboo/Timber-Light roof</td>\n",
       "      <td>Mud</td>\n",
       "      <td>Not applicable</td>\n",
       "      <td>Not attached</td>\n",
       "      <td>Rectangular</td>\n",
       "      <td>Damaged-Repaired and used</td>\n",
       "      <td>Grade 2</td>\n",
       "      <td>Minor repair</td>\n",
       "      <td>has_superstructure_mud_mortar_stone</td>\n",
       "    </tr>\n",
       "    <tr>\n",
       "      <th>3</th>\n",
       "      <td>120101000041</td>\n",
       "      <td>12</td>\n",
       "      <td>1207</td>\n",
       "      <td>120703</td>\n",
       "      <td>1</td>\n",
       "      <td>1</td>\n",
       "      <td>20</td>\n",
       "      <td>312</td>\n",
       "      <td>9</td>\n",
       "      <td>9</td>\n",
       "      <td>...</td>\n",
       "      <td>Other</td>\n",
       "      <td>Bamboo/Timber-Light roof</td>\n",
       "      <td>Mud</td>\n",
       "      <td>Not applicable</td>\n",
       "      <td>Not attached</td>\n",
       "      <td>Rectangular</td>\n",
       "      <td>Damaged-Repaired and used</td>\n",
       "      <td>Grade 2</td>\n",
       "      <td>Minor repair</td>\n",
       "      <td>has_superstructure_mud_mortar_stone</td>\n",
       "    </tr>\n",
       "    <tr>\n",
       "      <th>4</th>\n",
       "      <td>120101000051</td>\n",
       "      <td>12</td>\n",
       "      <td>1207</td>\n",
       "      <td>120703</td>\n",
       "      <td>1</td>\n",
       "      <td>1</td>\n",
       "      <td>30</td>\n",
       "      <td>308</td>\n",
       "      <td>9</td>\n",
       "      <td>9</td>\n",
       "      <td>...</td>\n",
       "      <td>Other</td>\n",
       "      <td>Bamboo/Timber-Light roof</td>\n",
       "      <td>Mud</td>\n",
       "      <td>Not applicable</td>\n",
       "      <td>Not attached</td>\n",
       "      <td>Rectangular</td>\n",
       "      <td>Damaged-Repaired and used</td>\n",
       "      <td>Grade 1</td>\n",
       "      <td>Minor repair</td>\n",
       "      <td>has_superstructure_mud_mortar_stone</td>\n",
       "    </tr>\n",
       "  </tbody>\n",
       "</table>\n",
       "<p>5 rows × 21 columns</p>\n",
       "</div>"
      ],
      "text/plain": [
       "    building_id  district_id  vdcmun_id  ward_id  count_floors_pre_eq  \\\n",
       "0  120101000011           12       1207   120703                    1   \n",
       "1  120101000021           12       1207   120703                    1   \n",
       "2  120101000031           12       1207   120703                    1   \n",
       "3  120101000041           12       1207   120703                    1   \n",
       "4  120101000051           12       1207   120703                    1   \n",
       "\n",
       "   count_floors_post_eq  age_building  plinth_area_sq_ft  height_ft_pre_eq  \\\n",
       "0                     1             9                288                 9   \n",
       "1                     1            15                364                 9   \n",
       "2                     1            20                384                 9   \n",
       "3                     1            20                312                 9   \n",
       "4                     1            30                308                 9   \n",
       "\n",
       "   height_ft_post_eq  ... foundation_type                 roof_type  \\\n",
       "0                  9  ...           Other  Bamboo/Timber-Light roof   \n",
       "1                  9  ...           Other  Bamboo/Timber-Light roof   \n",
       "2                  9  ...           Other  Bamboo/Timber-Light roof   \n",
       "3                  9  ...           Other  Bamboo/Timber-Light roof   \n",
       "4                  9  ...           Other  Bamboo/Timber-Light roof   \n",
       "\n",
       "  ground_floor_type other_floor_type      position plan_configuration  \\\n",
       "0               Mud   Not applicable  Not attached        Rectangular   \n",
       "1               Mud   Not applicable  Not attached        Rectangular   \n",
       "2               Mud   Not applicable  Not attached        Rectangular   \n",
       "3               Mud   Not applicable  Not attached        Rectangular   \n",
       "4               Mud   Not applicable  Not attached        Rectangular   \n",
       "\n",
       "           condition_post_eq damage_grade technical_solution_proposed  \\\n",
       "0       Damaged-Used in risk      Grade 3                Major repair   \n",
       "1  Damaged-Repaired and used      Grade 5              Reconstruction   \n",
       "2  Damaged-Repaired and used      Grade 2                Minor repair   \n",
       "3  Damaged-Repaired and used      Grade 2                Minor repair   \n",
       "4  Damaged-Repaired and used      Grade 1                Minor repair   \n",
       "\n",
       "                        superstructure  \n",
       "0  has_superstructure_mud_mortar_stone  \n",
       "1  has_superstructure_mud_mortar_stone  \n",
       "2  has_superstructure_mud_mortar_stone  \n",
       "3  has_superstructure_mud_mortar_stone  \n",
       "4  has_superstructure_mud_mortar_stone  \n",
       "\n",
       "[5 rows x 21 columns]"
      ]
     },
     "execution_count": 9,
     "metadata": {},
     "output_type": "execute_result"
    }
   ],
   "source": [
    "# Primer dataset\n",
    "nepal.head()"
   ]
  },
  {
   "cell_type": "code",
   "execution_count": 6,
   "metadata": {},
   "outputs": [
    {
     "name": "stdout",
     "output_type": "stream",
     "text": [
      "<class 'pandas.core.frame.DataFrame'>\n",
      "RangeIndex: 762106 entries, 0 to 762105\n",
      "Data columns (total 21 columns):\n",
      " #   Column                       Non-Null Count   Dtype \n",
      "---  ------                       --------------   ----- \n",
      " 0   building_id                  762106 non-null  int64 \n",
      " 1   district_id                  762106 non-null  int64 \n",
      " 2   vdcmun_id                    762106 non-null  int64 \n",
      " 3   ward_id                      762106 non-null  int64 \n",
      " 4   count_floors_pre_eq          762106 non-null  int64 \n",
      " 5   count_floors_post_eq         762106 non-null  int64 \n",
      " 6   age_building                 762106 non-null  int64 \n",
      " 7   plinth_area_sq_ft            762106 non-null  int64 \n",
      " 8   height_ft_pre_eq             762106 non-null  int64 \n",
      " 9   height_ft_post_eq            762106 non-null  int64 \n",
      " 10  land_surface_condition       762106 non-null  object\n",
      " 11  foundation_type              762106 non-null  object\n",
      " 12  roof_type                    762106 non-null  object\n",
      " 13  ground_floor_type            762106 non-null  object\n",
      " 14  other_floor_type             762106 non-null  object\n",
      " 15  position                     762105 non-null  object\n",
      " 16  plan_configuration           762105 non-null  object\n",
      " 17  condition_post_eq            762106 non-null  object\n",
      " 18  damage_grade                 762094 non-null  object\n",
      " 19  technical_solution_proposed  762094 non-null  object\n",
      " 20  superstructure               762106 non-null  object\n",
      "dtypes: int64(10), object(11)\n",
      "memory usage: 122.1+ MB\n"
     ]
    }
   ],
   "source": [
    "nepal.info()"
   ]
  },
  {
   "cell_type": "markdown",
   "metadata": {},
   "source": [
    "### Here's a description of each feature in the dataset:\n",
    "\n",
    "**building_id:** Un identificador único a cada edificio del dataset.\n",
    "\n",
    "**district_id:** El identificador del distrito donde se encuentra el edificio.\n",
    "\n",
    "**vdcmun_id:** El identificador del Village Development Committee/Municipality donde se encuentra el edificio.\n",
    "\n",
    "**ward_id:** El identificador para el pabellón específico dentro del Village Development Committee/Municipality.\n",
    "\n",
    "**count_floors_pre_eq:** Número de pisos del edificio antes del terremoto.\n",
    "\n",
    "**count_floors_post_eq:** Número de pisos del edificio tras el terremoto.\n",
    "\n",
    "**age_building:** La edad del edificio (en años) en el momento del terremoto.\n",
    "\n",
    "**plinth_area_sq_ft:** La superficie del zócalo del edificio en metros cuadrados.\n",
    "\n",
    "**height_ft_pre_eq:** La altura del edificio antes del terremoto (en pies).\n",
    "\n",
    "**height_ft_post_eq:** La altura del edificio tras el terremoto (en pies).\n",
    "\n",
    "**land_surface_condition:** El estado de la superficie del terreno donde se encuentra el edificio (\"Llano,\" \"Pendiente moderada,\" \"Pendiente pronunciada\").\n",
    "\n",
    "**foundation_type:** Tipo de cimentación del edificio (\"Mortero de barro y piedra/ladrillo,\" \"Bambú/Madera,\" \"Cemento y piedra/Ladrillo\").\n",
    "\n",
    "**roof_type:** Tipo de tejado del edificio (\"Bambú/Madera ligera,\" \"hormigón armado/ladrillo reforzado/hormigón armado de ladrillo,\" \"Bambú/Madera pesada\").\n",
    "\n",
    "**ground_floor_type:** Tipo de construcción de la planta baja (\"Barro,\" \"Hormigón armado\", \"Otros\").\n",
    "\n",
    "**other_floor_type:** El tipo de construcción utilizado para las plantas distintas de la planta baja (\"Planchas de madera,\" \"Bambú-Madera,\" \"hormigón armado/ladrillo reforzado/hormigón armado de ladrillo\").\n",
    "\n",
    "**position:** La situación del edificio (\"Independiente,\" \"Adosado por un lado,\" \"Adosado a ambos lados\").\n",
    "\n",
    "**plan_configuration:** Configuración del edificio (\"Rectangular,\" \"Forma de L,\" \"Forma de T\").\n",
    "\n",
    "**condition_post_eq:** Condición del edificio tras el terremoto (\"Dañado-No utilizado,\" \"Dañado-Reparado y utilizado,\" \"Dañado-Limpieza de escombros\").\n",
    "\n",
    "**damage_grade:** El grado de daño sufrido por el edificio tras el terremoto (\"Grado 1,\" \"Grado 2,\" \"Grado 5\").\n",
    "\n",
    "**technical_solution_proposed:** La solución técnica propuesta para hacer frente a los daños del edificio.\n",
    "\n",
    "**superstructure:** El tipo de superestructura utilizada en la construcción del edificio (\"Mortero de barro y piedra/ladrillo,\" \"Bambú/Madera,\" \"Hormigón armado\")."
   ]
  }
 ],
 "metadata": {
  "kernelspec": {
   "display_name": "Python 3",
   "language": "python",
   "name": "python3"
  },
  "language_info": {
   "codemirror_mode": {
    "name": "ipython",
    "version": 3
   },
   "file_extension": ".py",
   "mimetype": "text/x-python",
   "name": "python",
   "nbconvert_exporter": "python",
   "pygments_lexer": "ipython3",
   "version": "3.11.9"
  },
  "orig_nbformat": 4
 },
 "nbformat": 4,
 "nbformat_minor": 2
}
