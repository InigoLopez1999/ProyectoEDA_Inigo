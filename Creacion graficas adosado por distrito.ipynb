{
 "cells": [
  {
   "cell_type": "code",
   "execution_count": null,
   "id": "17922635",
   "metadata": {},
   "outputs": [],
   "source": [
    "import matplotlib.pyplot as plt\n",
    "import os\n",
    "import pandas as pd"
   ]
  },
  {
   "cell_type": "code",
   "execution_count": 24,
   "id": "92c9b4d1",
   "metadata": {},
   "outputs": [],
   "source": [
    "output_dir = \"graficos_adosamiento_edificio\"\n",
    "os.makedirs(output_dir, exist_ok=True)"
   ]
  },
  {
   "cell_type": "code",
   "execution_count": 25,
   "id": "85f80f50",
   "metadata": {},
   "outputs": [],
   "source": [
    "nepal = pd.read_csv(\"eq2015.csv\")\n",
    "fuente_1 = \"https://www.kaggle.com/datasets/sanskarnegi/nepal-earthquake-2015\""
   ]
  },
  {
   "cell_type": "code",
   "execution_count": 26,
   "id": "c25f91dd",
   "metadata": {},
   "outputs": [
    {
     "data": {
      "text/plain": [
       "array(['OKHALDHUNGA', 'SINDHULI', 'RAMECHHAP', 'DOLAKHA', 'SINDHUPALCHOK',\n",
       "       'KAVRE', 'NUWAKOT', 'RASUWA', 'DHADING', 'MAKWANPUR', 'GORKHA'],\n",
       "      dtype=object)"
      ]
     },
     "execution_count": 26,
     "metadata": {},
     "output_type": "execute_result"
    }
   ],
   "source": [
    "distritos = nepal[\"district_name\"].unique()\n",
    "distritos"
   ]
  },
  {
   "cell_type": "code",
   "execution_count": 27,
   "id": "4959bf02",
   "metadata": {},
   "outputs": [],
   "source": [
    "graficos_por_distrito = {}"
   ]
  },
  {
   "cell_type": "code",
   "execution_count": 44,
   "id": "ef857eb7",
   "metadata": {},
   "outputs": [],
   "source": [
    "for distrito in distritos:\n",
    "    df_distrito = nepal[nepal[\"district_name\"] == distrito]\n",
    "    df_grouped = df_distrito.groupby([\"position\", \"damage_grade\"]).size().unstack()\n",
    "\n",
    "    # Normalizar las filas para que cada barra tenga altura total 1\n",
    "    df_normalized = df_grouped.div(df_grouped.sum(axis=1), axis=0)\n",
    "\n",
    "    # Crear la figura\n",
    "    fig, ax = plt.subplots(figsize=(7, 6))\n",
    "    df_normalized.plot(kind='bar', stacked=True, colormap='viridis', ax=ax,legend=False)\n",
    "\n",
    "    # Etiquetas\n",
    "    plt.xlabel('Tipo de adosamiento')\n",
    "    plt.ylabel('Número de edificios')\n",
    "    plt.title(f'Distrito: {distrito}')\n",
    "    ax.set_ylim(0, 1)\n",
    "\n",
    "    for i, (idx, row) in enumerate(df_normalized.iterrows()):\n",
    "        y_offset = 0\n",
    "        for damage_grade, value in row.items():\n",
    "            if value > 0:\n",
    "                ax.text(\n",
    "                    i + 0.5,\n",
    "                    y_offset + value / 2, \n",
    "                    f\"{value * 100:.1f}%\", \n",
    "                    ha='right', \n",
    "                    va='center',\n",
    "                    fontsize=7,\n",
    "                    color='black'\n",
    "                )\n",
    "            y_offset += value\n",
    "    # Guardar la imagen en memoria\n",
    "    img_path = os.path.join(output_dir, f\"{distrito}.png\")\n",
    "    plt.savefig(img_path, bbox_inches=\"tight\", dpi=150)\n",
    "    plt.close(fig)\n",
    "\n",
    "    # Guardar ruta de la imagen\n",
    "    graficos_por_distrito[distrito] = img_path"
   ]
  }
 ],
 "metadata": {
  "kernelspec": {
   "display_name": "Python 3",
   "language": "python",
   "name": "python3"
  },
  "language_info": {
   "codemirror_mode": {
    "name": "ipython",
    "version": 3
   },
   "file_extension": ".py",
   "mimetype": "text/x-python",
   "name": "python",
   "nbconvert_exporter": "python",
   "pygments_lexer": "ipython3",
   "version": "3.11.9"
  }
 },
 "nbformat": 4,
 "nbformat_minor": 5
}
