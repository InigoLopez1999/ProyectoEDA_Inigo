{
 "cells": [
  {
   "cell_type": "code",
   "execution_count": 1,
   "id": "17922635",
   "metadata": {},
   "outputs": [],
   "source": [
    "import matplotlib.pyplot as plt\n",
    "import numpy as np\n",
    "import os\n",
    "import pandas as pd"
   ]
  },
  {
   "cell_type": "code",
   "execution_count": 2,
   "id": "92c9b4d1",
   "metadata": {},
   "outputs": [],
   "source": [
    "output_dir = \"graficos_adosamiento_edificio\"\n",
    "os.makedirs(output_dir, exist_ok=True)"
   ]
  },
  {
   "cell_type": "code",
   "execution_count": 3,
   "id": "85f80f50",
   "metadata": {},
   "outputs": [],
   "source": [
    "nepal = pd.read_csv(\"eq2015.csv\")\n",
    "fuente_1 = \"https://www.kaggle.com/datasets/sanskarnegi/nepal-earthquake-2015\""
   ]
  },
  {
   "cell_type": "code",
   "execution_count": 4,
   "id": "c25f91dd",
   "metadata": {},
   "outputs": [
    {
     "data": {
      "text/plain": [
       "array(['OKHALDHUNGA', 'SINDHULI', 'RAMECHHAP', 'DOLAKHA', 'SINDHUPALCHOK',\n",
       "       'KAVRE', 'NUWAKOT', 'RASUWA', 'DHADING', 'MAKWANPUR', 'GORKHA'],\n",
       "      dtype=object)"
      ]
     },
     "execution_count": 4,
     "metadata": {},
     "output_type": "execute_result"
    }
   ],
   "source": [
    "distritos = nepal[\"district_name\"].unique()\n",
    "distritos"
   ]
  },
  {
   "cell_type": "code",
   "execution_count": 5,
   "id": "4959bf02",
   "metadata": {},
   "outputs": [],
   "source": [
    "graficos_por_distrito = {}"
   ]
  },
  {
   "cell_type": "code",
   "execution_count": 6,
   "id": "ef857eb7",
   "metadata": {},
   "outputs": [],
   "source": [
    "for distrito in distritos:\n",
    "    df_distrito = nepal[nepal[\"district_name\"] == distrito]\n",
    "    df_grouped = df_distrito.groupby([\"position\", \"damage_grade\"]).size().unstack()\n",
    "\n",
    "    # Crear la figura\n",
    "    fig, ax = plt.subplots(figsize=(6, 4))\n",
    "    df_grouped.plot(kind='bar', stacked=True, colormap='viridis', ax=ax)\n",
    "\n",
    "    # Etiquetas\n",
    "    plt.xlabel('Tipo de adosamiento')\n",
    "    plt.ylabel('Número de edificios')\n",
    "    plt.title(f'Distrito: {distrito}')\n",
    "\n",
    "    # Guardar la imagen en memoria\n",
    "    img_path = os.path.join(output_dir, f\"{distrito}.png\")\n",
    "    plt.savefig(img_path, bbox_inches=\"tight\", dpi=150)\n",
    "    plt.close(fig)\n",
    "\n",
    "    # Guardar ruta de la imagen\n",
    "    graficos_por_distrito[distrito] = img_path"
   ]
  },
  {
   "cell_type": "code",
   "execution_count": 9,
   "id": "67417653",
   "metadata": {},
   "outputs": [],
   "source": [
    "output_dir2 = \"graficos_adosamiento_edificio_ampliacion\"\n",
    "os.makedirs(output_dir2, exist_ok=True)"
   ]
  },
  {
   "cell_type": "code",
   "execution_count": 10,
   "id": "6c99a616",
   "metadata": {},
   "outputs": [],
   "source": [
    "df_filtrado = nepal[nepal['position'].isin(['Attached-2 side', 'Attached-3 side'])]"
   ]
  },
  {
   "cell_type": "code",
   "execution_count": 12,
   "id": "22e31678",
   "metadata": {},
   "outputs": [],
   "source": [
    "for distrito in distritos:\n",
    "    df_distrito = nepal[nepal[\"district_name\"] == distrito]\n",
    "    adosado_3_lados = df_filtrado.groupby(['position', 'damage_grade']).size().unstack()\n",
    "\n",
    "    # Crear la figura\n",
    "    fig, ax = plt.subplots(figsize=(6, 4))\n",
    "    adosado_3_lados.plot(kind='bar', stacked=True, colormap='viridis', ax=ax)\n",
    "\n",
    "    # Etiquetas\n",
    "    plt.xlabel('Tipo de adosamiento')\n",
    "    plt.ylabel('Número de edificios')\n",
    "    plt.title(f'Distrito: {distrito}')\n",
    "\n",
    "    # Guardar la imagen en memoria\n",
    "    img_path = os.path.join(output_dir2, f\"{distrito}.png\")\n",
    "    plt.savefig(img_path, bbox_inches=\"tight\", dpi=150)\n",
    "    plt.close(fig)\n",
    "\n",
    "    # Guardar ruta de la imagen\n",
    "    graficos_por_distrito[distrito] = img_path"
   ]
  }
 ],
 "metadata": {
  "kernelspec": {
   "display_name": "Python 3",
   "language": "python",
   "name": "python3"
  },
  "language_info": {
   "codemirror_mode": {
    "name": "ipython",
    "version": 3
   },
   "file_extension": ".py",
   "mimetype": "text/x-python",
   "name": "python",
   "nbconvert_exporter": "python",
   "pygments_lexer": "ipython3",
   "version": "3.11.9"
  }
 },
 "nbformat": 4,
 "nbformat_minor": 5
}
