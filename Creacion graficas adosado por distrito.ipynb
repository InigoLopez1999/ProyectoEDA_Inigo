{
 "cells": [
  {
   "cell_type": "code",
   "execution_count": 2,
   "id": "17922635",
   "metadata": {},
   "outputs": [],
   "source": [
    "import matplotlib.pyplot as plt\n",
    "import os\n",
    "import pandas as pd"
   ]
  },
  {
   "cell_type": "code",
   "execution_count": 24,
   "id": "92c9b4d1",
   "metadata": {},
   "outputs": [],
   "source": [
    "output_dir = \"graficos_adosamiento_edificio\"\n",
    "os.makedirs(output_dir, exist_ok=True)"
   ]
  },
  {
   "cell_type": "code",
   "execution_count": 3,
   "id": "85f80f50",
   "metadata": {},
   "outputs": [],
   "source": [
    "nepal = pd.read_csv(\"eq2015.csv\")\n",
    "fuente_1 = \"https://www.kaggle.com/datasets/sanskarnegi/nepal-earthquake-2015\""
   ]
  },
  {
   "cell_type": "code",
   "execution_count": 26,
   "id": "c25f91dd",
   "metadata": {},
   "outputs": [
    {
     "data": {
      "text/plain": [
       "array(['OKHALDHUNGA', 'SINDHULI', 'RAMECHHAP', 'DOLAKHA', 'SINDHUPALCHOK',\n",
       "       'KAVRE', 'NUWAKOT', 'RASUWA', 'DHADING', 'MAKWANPUR', 'GORKHA'],\n",
       "      dtype=object)"
      ]
     },
     "execution_count": 26,
     "metadata": {},
     "output_type": "execute_result"
    }
   ],
   "source": [
    "distritos = nepal[\"district_name\"].unique()\n",
    "distritos"
   ]
  },
  {
   "cell_type": "code",
   "execution_count": 27,
   "id": "4959bf02",
   "metadata": {},
   "outputs": [],
   "source": [
    "graficos_por_distrito = {}"
   ]
  },
  {
   "cell_type": "code",
   "execution_count": 60,
   "id": "ef857eb7",
   "metadata": {},
   "outputs": [],
   "source": [
    "for distrito in distritos:\n",
    "    df_distrito = nepal[nepal[\"district_name\"] == distrito]\n",
    "    df_grouped = df_distrito.groupby([\"position\", \"damage_grade\"]).size().unstack(fill_value=0)\n",
    "    \n",
    "    # Asegurar presencia de todos los grados de daño\n",
    "    todos_los_grados = [\"Grade 1\", \"Grade 2\", \"Grade 3\", \"Grade 4\", \"Grade 5\"]\n",
    "    df_grouped = df_grouped.reindex(columns=todos_los_grados, fill_value=0)\n",
    "    \n",
    "    orden_adosamiento = [\"Not attached\", \"Attached-1 side\", \"Attached-2 side\", \"Attached-3 side\"]\n",
    "    df_grouped = df_grouped.reindex(orden_adosamiento,fill_value=0)\n",
    "\n",
    "    # Normalizar las filas para que cada barra tenga altura total 1\n",
    "    df_normalized = df_grouped.div(df_grouped.sum(axis=1), axis=0).fillna(0)\n",
    "\n",
    "    # Crear la figura\n",
    "    fig, ax = plt.subplots(figsize=(8, 10))\n",
    "    df_normalized.plot(kind='bar', stacked=True, colormap='viridis', ax=ax,legend=False)\n",
    "\n",
    "    # Etiquetas\n",
    "    plt.xlabel('Tipo de adosamiento')\n",
    "    plt.ylabel('Número de edificios')\n",
    "    plt.title(f'Distrito: {distrito}')\n",
    "    plt.xticks(rotation=0)\n",
    "    ax.set_ylim(0, 1)\n",
    "\n",
    "    for i, (idx, row) in enumerate(df_normalized.iterrows()):\n",
    "        y_offset = 0\n",
    "        for damage_grade, value in row.items():\n",
    "            if value > 0:\n",
    "                ax.text(\n",
    "                    i + 0.48,\n",
    "                    y_offset + value / 2, \n",
    "                    f\"{value * 100:.1f}%\", \n",
    "                    ha='right', \n",
    "                    va='center',\n",
    "                    fontsize=7,\n",
    "                    color='black'\n",
    "                )\n",
    "            y_offset += value\n",
    "    # Guardar la imagen en memoria\n",
    "    img_path = os.path.join(output_dir, f\"{distrito}.png\")\n",
    "    plt.savefig(img_path, bbox_inches=\"tight\", dpi=150)\n",
    "    plt.close(fig)\n",
    "\n",
    "    # Guardar ruta de la imagen\n",
    "    graficos_por_distrito[distrito] = img_path"
   ]
  },
  {
   "cell_type": "code",
   "execution_count": 6,
   "id": "be4446d2",
   "metadata": {},
   "outputs": [],
   "source": [
    "lista_gorkha = nepal[nepal[\"district_name\"] == \"GORKHA\"]"
   ]
  },
  {
   "cell_type": "code",
   "execution_count": 9,
   "id": "1ce839b5",
   "metadata": {},
   "outputs": [
    {
     "name": "stdout",
     "output_type": "stream",
     "text": [
      "\n",
      "📊 Comparando: Not attached vs Attached-1 side\n",
      "\n",
      "🔍 Test de Chi-cuadrado:\n",
      "Chi² = 30.70, dof = 4, p-valor = 3.5211e-06\n",
      "\n",
      "🔬 Test exacto de Fisher (Grade 5 vs resto):\n",
      "Odds Ratio = 1.00, p-valor = 8.9195e-01\n",
      "\n",
      "📊 Comparando: Not attached vs Attached-2 side\n",
      "\n",
      "🔍 Test de Chi-cuadrado:\n",
      "Chi² = 845.80, dof = 4, p-valor = 9.2148e-182\n",
      "\n",
      "🔬 Test exacto de Fisher (Grade 5 vs resto):\n",
      "Odds Ratio = 1.46, p-valor = 1.1535e-21\n",
      "\n",
      "📊 Comparando: Not attached vs Attached-3 side\n",
      "\n",
      "🔍 Test de Chi-cuadrado:\n",
      "Chi² = 34.73, dof = 4, p-valor = 5.2887e-07\n",
      "\n",
      "🔬 Test exacto de Fisher (Grade 5 vs resto):\n",
      "Odds Ratio = 3.08, p-valor = 3.9732e-05\n"
     ]
    }
   ],
   "source": [
    "from scipy.stats import chi2_contingency, fisher_exact\n",
    "\n",
    "# Función para hacer el análisis entre dos tipos de adosamiento\n",
    "def analizar_contraste(position_a, position_b):\n",
    "    print(f\"\\n📊 Comparando: {position_a} vs {position_b}\")\n",
    "    \n",
    "    # Filtrar los dos grupos\n",
    "    subset = lista_gorkha[lista_gorkha[\"position\"].isin([position_a, position_b])].copy()\n",
    "\n",
    "    # ------------------------------\n",
    "    # 1. Test de Chi-cuadrado completo\n",
    "    # ------------------------------\n",
    "    tabla_chi = pd.crosstab(subset[\"position\"], subset[\"damage_grade\"])\n",
    "    chi2, p_chi2, dof, expected = chi2_contingency(tabla_chi)\n",
    "    \n",
    "    print(f\"\\n🔍 Test de Chi-cuadrado:\")\n",
    "    print(f\"Chi² = {chi2:.2f}, dof = {dof}, p-valor = {p_chi2:.4e}\")\n",
    "    \n",
    "    # ------------------------------\n",
    "    # 2. Test exacto de Fisher (colapsado vs no colapsado)\n",
    "    # ------------------------------\n",
    "    subset[\"colapsado\"] = subset[\"damage_grade\"] == \"Grade 5\"\n",
    "    tabla_fisher = pd.crosstab(subset[\"position\"], subset[\"colapsado\"])\n",
    "    \n",
    "    # Solo se puede aplicar si la tabla es 2x2\n",
    "    if tabla_fisher.shape == (2, 2):\n",
    "        oddsratio, p_fisher = fisher_exact(tabla_fisher)\n",
    "        print(f\"\\n🔬 Test exacto de Fisher (Grade 5 vs resto):\")\n",
    "        print(f\"Odds Ratio = {oddsratio:.2f}, p-valor = {p_fisher:.4e}\")\n",
    "    else:\n",
    "        print(\"⚠️ No se puede aplicar test de Fisher (tabla no 2x2).\")\n",
    "\n",
    "# Comparaciones deseadas\n",
    "analizar_contraste(\"Not attached\", \"Attached-1 side\")\n",
    "analizar_contraste(\"Not attached\", \"Attached-2 side\")\n",
    "analizar_contraste(\"Not attached\", \"Attached-3 side\")"
   ]
  },
  {
   "cell_type": "code",
   "execution_count": 10,
   "id": "c1dfd3e1",
   "metadata": {},
   "outputs": [],
   "source": [
    "lista_dolakha = nepal[nepal[\"district_name\"] == \"DOLAKHA\"]"
   ]
  },
  {
   "cell_type": "code",
   "execution_count": 11,
   "id": "c9f8c174",
   "metadata": {},
   "outputs": [
    {
     "name": "stdout",
     "output_type": "stream",
     "text": [
      "\n",
      "📊 Comparando: Not attached vs Attached-1 side\n",
      "\n",
      "🔍 Test de Chi-cuadrado:\n",
      "Chi² = 46.94, dof = 4, p-valor = 1.5713e-09\n",
      "\n",
      "🔬 Test exacto de Fisher (Grade 5 vs resto):\n",
      "Odds Ratio = 1.14, p-valor = 9.0507e-08\n",
      "\n",
      "📊 Comparando: Not attached vs Attached-2 side\n",
      "\n",
      "🔍 Test de Chi-cuadrado:\n",
      "Chi² = 656.28, dof = 4, p-valor = 1.0175e-140\n",
      "\n",
      "🔬 Test exacto de Fisher (Grade 5 vs resto):\n",
      "Odds Ratio = 1.89, p-valor = 3.4218e-24\n",
      "\n",
      "📊 Comparando: Not attached vs Attached-3 side\n",
      "\n",
      "🔍 Test de Chi-cuadrado:\n",
      "Chi² = 10.09, dof = 4, p-valor = 3.8965e-02\n",
      "\n",
      "🔬 Test exacto de Fisher (Grade 5 vs resto):\n",
      "Odds Ratio = 2.88, p-valor = 8.2637e-02\n"
     ]
    }
   ],
   "source": [
    "# Función para hacer el análisis entre dos tipos de adosamiento\n",
    "def analizar_contraste(position_a, position_b):\n",
    "    print(f\"\\n📊 Comparando: {position_a} vs {position_b}\")\n",
    "    \n",
    "    # Filtrar los dos grupos\n",
    "    subset = lista_dolakha[lista_dolakha[\"position\"].isin([position_a, position_b])].copy()\n",
    "\n",
    "    # ------------------------------\n",
    "    # 1. Test de Chi-cuadrado completo\n",
    "    # ------------------------------\n",
    "    tabla_chi = pd.crosstab(subset[\"position\"], subset[\"damage_grade\"])\n",
    "    chi2, p_chi2, dof, expected = chi2_contingency(tabla_chi)\n",
    "    \n",
    "    print(f\"\\n🔍 Test de Chi-cuadrado:\")\n",
    "    print(f\"Chi² = {chi2:.2f}, dof = {dof}, p-valor = {p_chi2:.4e}\")\n",
    "    \n",
    "    # ------------------------------\n",
    "    # 2. Test exacto de Fisher (colapsado vs no colapsado)\n",
    "    # ------------------------------\n",
    "    subset[\"colapsado\"] = subset[\"damage_grade\"] == \"Grade 5\"\n",
    "    tabla_fisher = pd.crosstab(subset[\"position\"], subset[\"colapsado\"])\n",
    "    \n",
    "    # Solo se puede aplicar si la tabla es 2x2\n",
    "    if tabla_fisher.shape == (2, 2):\n",
    "        oddsratio, p_fisher = fisher_exact(tabla_fisher)\n",
    "        print(f\"\\n🔬 Test exacto de Fisher (Grade 5 vs resto):\")\n",
    "        print(f\"Odds Ratio = {oddsratio:.2f}, p-valor = {p_fisher:.4e}\")\n",
    "    else:\n",
    "        print(\"⚠️ No se puede aplicar test de Fisher (tabla no 2x2).\")\n",
    "\n",
    "# Comparaciones deseadas\n",
    "analizar_contraste(\"Not attached\", \"Attached-1 side\")\n",
    "analizar_contraste(\"Not attached\", \"Attached-2 side\")\n",
    "analizar_contraste(\"Not attached\", \"Attached-3 side\")"
   ]
  },
  {
   "cell_type": "code",
   "execution_count": 12,
   "id": "9ea10363",
   "metadata": {},
   "outputs": [],
   "source": [
    "lista_makwanpur = nepal[nepal[\"district_name\"] == \"MAKWANPUR\"]"
   ]
  },
  {
   "cell_type": "code",
   "execution_count": 13,
   "id": "c70341bc",
   "metadata": {},
   "outputs": [
    {
     "name": "stdout",
     "output_type": "stream",
     "text": [
      "\n",
      "📊 Comparando: Not attached vs Attached-1 side\n",
      "\n",
      "🔍 Test de Chi-cuadrado:\n",
      "Chi² = 194.39, dof = 4, p-valor = 6.0271e-41\n",
      "\n",
      "🔬 Test exacto de Fisher (Grade 5 vs resto):\n",
      "Odds Ratio = 1.42, p-valor = 1.1190e-19\n",
      "\n",
      "📊 Comparando: Not attached vs Attached-2 side\n",
      "\n",
      "🔍 Test de Chi-cuadrado:\n",
      "Chi² = 219.30, dof = 4, p-valor = 2.6472e-46\n",
      "\n",
      "🔬 Test exacto de Fisher (Grade 5 vs resto):\n",
      "Odds Ratio = 3.85, p-valor = 6.2224e-52\n",
      "\n",
      "📊 Comparando: Not attached vs Attached-3 side\n",
      "\n",
      "🔍 Test de Chi-cuadrado:\n",
      "Chi² = 30.39, dof = 4, p-valor = 4.0708e-06\n",
      "\n",
      "🔬 Test exacto de Fisher (Grade 5 vs resto):\n",
      "Odds Ratio = 2.79, p-valor = 6.9901e-04\n"
     ]
    }
   ],
   "source": [
    "# Función para hacer el análisis entre dos tipos de adosamiento\n",
    "def analizar_contraste(position_a, position_b):\n",
    "    print(f\"\\n📊 Comparando: {position_a} vs {position_b}\")\n",
    "    \n",
    "    # Filtrar los dos grupos\n",
    "    subset = lista_makwanpur[lista_makwanpur[\"position\"].isin([position_a, position_b])].copy()\n",
    "\n",
    "    # ------------------------------\n",
    "    # 1. Test de Chi-cuadrado completo\n",
    "    # ------------------------------\n",
    "    tabla_chi = pd.crosstab(subset[\"position\"], subset[\"damage_grade\"])\n",
    "    chi2, p_chi2, dof, expected = chi2_contingency(tabla_chi)\n",
    "    \n",
    "    print(f\"\\n🔍 Test de Chi-cuadrado:\")\n",
    "    print(f\"Chi² = {chi2:.2f}, dof = {dof}, p-valor = {p_chi2:.4e}\")\n",
    "    \n",
    "    # ------------------------------\n",
    "    # 2. Test exacto de Fisher (colapsado vs no colapsado)\n",
    "    # ------------------------------\n",
    "    subset[\"colapsado\"] = subset[\"damage_grade\"] == \"Grade 5\"\n",
    "    tabla_fisher = pd.crosstab(subset[\"position\"], subset[\"colapsado\"])\n",
    "    \n",
    "    # Solo se puede aplicar si la tabla es 2x2\n",
    "    if tabla_fisher.shape == (2, 2):\n",
    "        oddsratio, p_fisher = fisher_exact(tabla_fisher)\n",
    "        print(f\"\\n🔬 Test exacto de Fisher (Grade 5 vs resto):\")\n",
    "        print(f\"Odds Ratio = {oddsratio:.2f}, p-valor = {p_fisher:.4e}\")\n",
    "    else:\n",
    "        print(\"⚠️ No se puede aplicar test de Fisher (tabla no 2x2).\")\n",
    "\n",
    "# Comparaciones deseadas\n",
    "analizar_contraste(\"Not attached\", \"Attached-1 side\")\n",
    "analizar_contraste(\"Not attached\", \"Attached-2 side\")\n",
    "analizar_contraste(\"Not attached\", \"Attached-3 side\")"
   ]
  },
  {
   "cell_type": "code",
   "execution_count": 14,
   "id": "66065e43",
   "metadata": {},
   "outputs": [],
   "source": [
    "lista_rasuwa = nepal[nepal[\"district_name\"] == \"RASUWA\"]"
   ]
  },
  {
   "cell_type": "code",
   "execution_count": 15,
   "id": "06f5a243",
   "metadata": {},
   "outputs": [
    {
     "name": "stdout",
     "output_type": "stream",
     "text": [
      "\n",
      "📊 Comparando: Not attached vs Attached-1 side\n",
      "\n",
      "🔍 Test de Chi-cuadrado:\n",
      "Chi² = 81.07, dof = 4, p-valor = 1.0332e-16\n",
      "\n",
      "🔬 Test exacto de Fisher (Grade 5 vs resto):\n",
      "Odds Ratio = 1.42, p-valor = 2.4465e-15\n",
      "\n",
      "📊 Comparando: Not attached vs Attached-2 side\n",
      "\n",
      "🔍 Test de Chi-cuadrado:\n",
      "Chi² = 161.71, dof = 4, p-valor = 6.2808e-34\n",
      "\n",
      "🔬 Test exacto de Fisher (Grade 5 vs resto):\n",
      "Odds Ratio = 2.10, p-valor = 8.6751e-34\n",
      "\n",
      "📊 Comparando: Not attached vs Attached-3 side\n",
      "\n",
      "🔍 Test de Chi-cuadrado:\n",
      "Chi² = 13.74, dof = 4, p-valor = 8.1852e-03\n",
      "\n",
      "🔬 Test exacto de Fisher (Grade 5 vs resto):\n",
      "Odds Ratio = 5.50, p-valor = 2.0146e-02\n"
     ]
    }
   ],
   "source": [
    "# Función para hacer el análisis entre dos tipos de adosamiento\n",
    "def analizar_contraste(position_a, position_b):\n",
    "    print(f\"\\n📊 Comparando: {position_a} vs {position_b}\")\n",
    "    \n",
    "    # Filtrar los dos grupos\n",
    "    subset = lista_rasuwa[lista_rasuwa[\"position\"].isin([position_a, position_b])].copy()\n",
    "\n",
    "    # ------------------------------\n",
    "    # 1. Test de Chi-cuadrado completo\n",
    "    # ------------------------------\n",
    "    tabla_chi = pd.crosstab(subset[\"position\"], subset[\"damage_grade\"])\n",
    "    chi2, p_chi2, dof, expected = chi2_contingency(tabla_chi)\n",
    "    \n",
    "    print(f\"\\n🔍 Test de Chi-cuadrado:\")\n",
    "    print(f\"Chi² = {chi2:.2f}, dof = {dof}, p-valor = {p_chi2:.4e}\")\n",
    "    \n",
    "    # ------------------------------\n",
    "    # 2. Test exacto de Fisher (colapsado vs no colapsado)\n",
    "    # ------------------------------\n",
    "    subset[\"colapsado\"] = subset[\"damage_grade\"] == \"Grade 5\"\n",
    "    tabla_fisher = pd.crosstab(subset[\"position\"], subset[\"colapsado\"])\n",
    "    \n",
    "    # Solo se puede aplicar si la tabla es 2x2\n",
    "    if tabla_fisher.shape == (2, 2):\n",
    "        oddsratio, p_fisher = fisher_exact(tabla_fisher)\n",
    "        print(f\"\\n🔬 Test exacto de Fisher (Grade 5 vs resto):\")\n",
    "        print(f\"Odds Ratio = {oddsratio:.2f}, p-valor = {p_fisher:.4e}\")\n",
    "    else:\n",
    "        print(\"⚠️ No se puede aplicar test de Fisher (tabla no 2x2).\")\n",
    "\n",
    "# Comparaciones deseadas\n",
    "analizar_contraste(\"Not attached\", \"Attached-1 side\")\n",
    "analizar_contraste(\"Not attached\", \"Attached-2 side\")\n",
    "analizar_contraste(\"Not attached\", \"Attached-3 side\")"
   ]
  }
 ],
 "metadata": {
  "kernelspec": {
   "display_name": "Python 3",
   "language": "python",
   "name": "python3"
  },
  "language_info": {
   "codemirror_mode": {
    "name": "ipython",
    "version": 3
   },
   "file_extension": ".py",
   "mimetype": "text/x-python",
   "name": "python",
   "nbconvert_exporter": "python",
   "pygments_lexer": "ipython3",
   "version": "3.11.9"
  }
 },
 "nbformat": 4,
 "nbformat_minor": 5
}
